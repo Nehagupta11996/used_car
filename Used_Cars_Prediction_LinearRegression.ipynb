{
 "cells": [
  {
   "cell_type": "code",
   "execution_count": 132,
   "metadata": {},
   "outputs": [],
   "source": [
    "import pandas as pd\n",
    "import numpy as np\n",
    "import seaborn as sns\n",
    "import matplotlib.pyplot as plt\n",
    "import warnings\n",
    "warnings.filterwarnings(\"ignore\")"
   ]
  },
  {
   "cell_type": "code",
   "execution_count": 133,
   "metadata": {},
   "outputs": [
    {
     "data": {
      "text/plain": [
       "(7846, 14)"
      ]
     },
     "execution_count": 133,
     "metadata": {},
     "output_type": "execute_result"
    }
   ],
   "source": [
    "df=pd.read_csv(\"used_cars.csv\")\n",
    "df.shape"
   ]
  },
  {
   "cell_type": "code",
   "execution_count": 134,
   "metadata": {},
   "outputs": [
    {
     "data": {
      "text/html": [
       "<div>\n",
       "<style scoped>\n",
       "    .dataframe tbody tr th:only-of-type {\n",
       "        vertical-align: middle;\n",
       "    }\n",
       "\n",
       "    .dataframe tbody tr th {\n",
       "        vertical-align: top;\n",
       "    }\n",
       "\n",
       "    .dataframe thead th {\n",
       "        text-align: right;\n",
       "    }\n",
       "</style>\n",
       "<table border=\"1\" class=\"dataframe\">\n",
       "  <thead>\n",
       "    <tr style=\"text-align: right;\">\n",
       "      <th></th>\n",
       "      <th>Unnamed: 0</th>\n",
       "      <th>Name</th>\n",
       "      <th>Model</th>\n",
       "      <th>Brand</th>\n",
       "      <th>No_pre_owners</th>\n",
       "      <th>accident_history</th>\n",
       "      <th>Transmission</th>\n",
       "      <th>Engine</th>\n",
       "      <th>KM_used</th>\n",
       "      <th>Manufacture year</th>\n",
       "      <th>Insurance_type</th>\n",
       "      <th>Purchase_year</th>\n",
       "      <th>Insurance_valid_till</th>\n",
       "      <th>price</th>\n",
       "    </tr>\n",
       "  </thead>\n",
       "  <tbody>\n",
       "    <tr>\n",
       "      <th>0</th>\n",
       "      <td>0</td>\n",
       "      <td>2009 Maruti Wagon R LXI MANUAL</td>\n",
       "      <td>Wagon</td>\n",
       "      <td>Maruti</td>\n",
       "      <td>1st Owner</td>\n",
       "      <td>Non-Accidental</td>\n",
       "      <td>MANUAL</td>\n",
       "      <td>Petrol</td>\n",
       "      <td>46,807</td>\n",
       "      <td>2009</td>\n",
       "      <td>3rd Party</td>\n",
       "      <td>2009</td>\n",
       "      <td>2022</td>\n",
       "      <td>1,50,999</td>\n",
       "    </tr>\n",
       "    <tr>\n",
       "      <th>1</th>\n",
       "      <td>1</td>\n",
       "      <td>2016 Hyundai Grand i10 SPORTZ 1.2 KAPPA VTVT M...</td>\n",
       "      <td>Grand</td>\n",
       "      <td>Hyundai</td>\n",
       "      <td>1st Owner</td>\n",
       "      <td>Non-Accidental</td>\n",
       "      <td>MANUAL</td>\n",
       "      <td>Petrol</td>\n",
       "      <td>12,776</td>\n",
       "      <td>2016</td>\n",
       "      <td>Zero_Dep</td>\n",
       "      <td>2016</td>\n",
       "      <td>2022</td>\n",
       "      <td>4,18,599</td>\n",
       "    </tr>\n",
       "    <tr>\n",
       "      <th>2</th>\n",
       "      <td>2</td>\n",
       "      <td>2018 Maruti Alto 800 LXI MANUAL</td>\n",
       "      <td>Alto</td>\n",
       "      <td>Maruti</td>\n",
       "      <td>1st Owner</td>\n",
       "      <td>Non-Accidental</td>\n",
       "      <td>MANUAL</td>\n",
       "      <td>Petrol</td>\n",
       "      <td>727</td>\n",
       "      <td>2018</td>\n",
       "      <td>3rd Party</td>\n",
       "      <td>2018</td>\n",
       "      <td>2022</td>\n",
       "      <td>3,36,199</td>\n",
       "    </tr>\n",
       "    <tr>\n",
       "      <th>3</th>\n",
       "      <td>3</td>\n",
       "      <td>2013 Honda Amaze 1.2 SMT I VTEC MANUAL</td>\n",
       "      <td>Amaze</td>\n",
       "      <td>Honda</td>\n",
       "      <td>1st Owner</td>\n",
       "      <td>Non-Accidental</td>\n",
       "      <td>MANUAL</td>\n",
       "      <td>Petrol</td>\n",
       "      <td>37,382</td>\n",
       "      <td>2013</td>\n",
       "      <td>Comp</td>\n",
       "      <td>2013</td>\n",
       "      <td>2022</td>\n",
       "      <td>3,12,899</td>\n",
       "    </tr>\n",
       "    <tr>\n",
       "      <th>4</th>\n",
       "      <td>4</td>\n",
       "      <td>2017 Hyundai Grand i10 MAGNA 1.2 VTVT MANUAL</td>\n",
       "      <td>Grand</td>\n",
       "      <td>Hyundai</td>\n",
       "      <td>1st Owner</td>\n",
       "      <td>Non-Accidental</td>\n",
       "      <td>MANUAL</td>\n",
       "      <td>Petrol</td>\n",
       "      <td>20,561</td>\n",
       "      <td>2017</td>\n",
       "      <td>3rd Party</td>\n",
       "      <td>2017</td>\n",
       "      <td>2022</td>\n",
       "      <td>4,12,899</td>\n",
       "    </tr>\n",
       "  </tbody>\n",
       "</table>\n",
       "</div>"
      ],
      "text/plain": [
       "   Unnamed: 0                                               Name  Model  \\\n",
       "0           0                     2009 Maruti Wagon R LXI MANUAL  Wagon   \n",
       "1           1  2016 Hyundai Grand i10 SPORTZ 1.2 KAPPA VTVT M...  Grand   \n",
       "2           2                    2018 Maruti Alto 800 LXI MANUAL   Alto   \n",
       "3           3             2013 Honda Amaze 1.2 SMT I VTEC MANUAL  Amaze   \n",
       "4           4       2017 Hyundai Grand i10 MAGNA 1.2 VTVT MANUAL  Grand   \n",
       "\n",
       "     Brand No_pre_owners accident_history Transmission  Engine  KM_used  \\\n",
       "0   Maruti     1st Owner   Non-Accidental       MANUAL  Petrol  46,807    \n",
       "1  Hyundai     1st Owner   Non-Accidental       MANUAL  Petrol  12,776    \n",
       "2   Maruti     1st Owner   Non-Accidental       MANUAL  Petrol     727    \n",
       "3    Honda     1st Owner   Non-Accidental       MANUAL  Petrol  37,382    \n",
       "4  Hyundai     1st Owner   Non-Accidental       MANUAL  Petrol  20,561    \n",
       "\n",
       "   Manufacture year Insurance_type Purchase_year Insurance_valid_till  \\\n",
       "0              2009      3rd Party          2009                 2022   \n",
       "1              2016       Zero_Dep          2016                 2022   \n",
       "2              2018      3rd Party          2018                 2022   \n",
       "3              2013           Comp          2013                 2022   \n",
       "4              2017      3rd Party          2017                 2022   \n",
       "\n",
       "      price  \n",
       "0  1,50,999  \n",
       "1  4,18,599  \n",
       "2  3,36,199  \n",
       "3  3,12,899  \n",
       "4  4,12,899  "
      ]
     },
     "execution_count": 134,
     "metadata": {},
     "output_type": "execute_result"
    }
   ],
   "source": [
    "df.head()"
   ]
  },
  {
   "cell_type": "code",
   "execution_count": 135,
   "metadata": {},
   "outputs": [
    {
     "data": {
      "text/plain": [
       "Unnamed: 0                0\n",
       "Name                      0\n",
       "Model                     0\n",
       "Brand                     0\n",
       "No_pre_owners             0\n",
       "accident_history          0\n",
       "Transmission            283\n",
       "Engine                    0\n",
       "KM_used                   0\n",
       "Manufacture year          0\n",
       "Insurance_type            8\n",
       "Purchase_year             0\n",
       "Insurance_valid_till      0\n",
       "price                     0\n",
       "dtype: int64"
      ]
     },
     "execution_count": 135,
     "metadata": {},
     "output_type": "execute_result"
    }
   ],
   "source": [
    "df.isnull().sum()"
   ]
  },
  {
   "cell_type": "code",
   "execution_count": 136,
   "metadata": {},
   "outputs": [
    {
     "data": {
      "text/plain": [
       "MANUAL       6915\n",
       "AUTOMATIC     648\n",
       "Name: Transmission, dtype: int64"
      ]
     },
     "execution_count": 136,
     "metadata": {},
     "output_type": "execute_result"
    }
   ],
   "source": [
    "df[\"Transmission\"].value_counts()"
   ]
  },
  {
   "cell_type": "code",
   "execution_count": 137,
   "metadata": {},
   "outputs": [
    {
     "data": {
      "text/plain": [
       "array(['MANUAL', 'AUTOMATIC', nan], dtype=object)"
      ]
     },
     "execution_count": 137,
     "metadata": {},
     "output_type": "execute_result"
    }
   ],
   "source": [
    "df[\"Transmission\"].unique()"
   ]
  },
  {
   "cell_type": "code",
   "execution_count": 138,
   "metadata": {},
   "outputs": [],
   "source": [
    "#There is null value in the transmission column only"
   ]
  },
  {
   "cell_type": "code",
   "execution_count": 139,
   "metadata": {},
   "outputs": [
    {
     "data": {
      "text/plain": [
       "array(['2009 Maruti Wagon R LXI MANUAL',\n",
       "       '2016 Hyundai Grand i10 SPORTZ 1.2 KAPPA VTVT MANUAL',\n",
       "       '2018 Maruti Alto 800 LXI MANUAL', ...,\n",
       "       '2021 Hyundai Creta SX PETROL MT MANUAL',\n",
       "       '2020 Maruti Ertiga VXI CNG MANUAL',\n",
       "       '2011 Hyundai Santro Xing GLS MANUAL'], dtype=object)"
      ]
     },
     "execution_count": 139,
     "metadata": {},
     "output_type": "execute_result"
    }
   ],
   "source": [
    "df[\"Name\"].unique()"
   ]
  },
  {
   "cell_type": "code",
   "execution_count": 140,
   "metadata": {},
   "outputs": [
    {
     "data": {
      "text/plain": [
       "2013 Maruti Swift VDI MANUAL                               127\n",
       "2015 Maruti Swift VDI ABS MANUAL                           121\n",
       "2012 Maruti Swift Dzire VDI BS IV MANUAL                    97\n",
       "2012 Maruti Swift VDI MANUAL                                88\n",
       "2018 Maruti Alto 800 LXI MANUAL                             70\n",
       "                                                          ... \n",
       "2015 Landrover Range Rover Evoque DYNAMIC SD4 AUTOMATIC      1\n",
       "2016 Volkswagen Polo TRENDLINE 1.2L PETROL MANUAL            1\n",
       "2012 Skoda Fabia 1.2 MPI ACTIVE PLUS MANUAL                  1\n",
       "2009 Hyundai Santro Xing GLS MANUAL                          1\n",
       "2018 Maruti Swift VDI AMT AUTOMATIC                          1\n",
       "Name: Name, Length: 1564, dtype: int64"
      ]
     },
     "execution_count": 140,
     "metadata": {},
     "output_type": "execute_result"
    }
   ],
   "source": [
    "df[\"Name\"].value_counts()"
   ]
  },
  {
   "cell_type": "code",
   "execution_count": 141,
   "metadata": {},
   "outputs": [
    {
     "name": "stdout",
     "output_type": "stream",
     "text": [
      "<class 'pandas.core.frame.DataFrame'>\n",
      "RangeIndex: 7846 entries, 0 to 7845\n",
      "Data columns (total 14 columns):\n",
      " #   Column                Non-Null Count  Dtype \n",
      "---  ------                --------------  ----- \n",
      " 0   Unnamed: 0            7846 non-null   int64 \n",
      " 1   Name                  7846 non-null   object\n",
      " 2   Model                 7846 non-null   object\n",
      " 3   Brand                 7846 non-null   object\n",
      " 4   No_pre_owners         7846 non-null   object\n",
      " 5   accident_history      7846 non-null   object\n",
      " 6   Transmission          7563 non-null   object\n",
      " 7   Engine                7846 non-null   object\n",
      " 8   KM_used               7846 non-null   object\n",
      " 9   Manufacture year      7846 non-null   int64 \n",
      " 10  Insurance_type        7838 non-null   object\n",
      " 11  Purchase_year         7846 non-null   object\n",
      " 12  Insurance_valid_till  7846 non-null   object\n",
      " 13  price                 7846 non-null   object\n",
      "dtypes: int64(2), object(12)\n",
      "memory usage: 858.3+ KB\n"
     ]
    }
   ],
   "source": [
    "df.info()"
   ]
  },
  {
   "cell_type": "code",
   "execution_count": 142,
   "metadata": {},
   "outputs": [],
   "source": [
    "df.drop(\"Name\",axis=1,inplace=True)"
   ]
  },
  {
   "cell_type": "code",
   "execution_count": 143,
   "metadata": {},
   "outputs": [],
   "source": [
    "df.drop(\"Unnamed: 0\",axis=1,inplace=True)"
   ]
  },
  {
   "cell_type": "code",
   "execution_count": 144,
   "metadata": {},
   "outputs": [],
   "source": [
    "#Deleted the column Name and unnamed as unnmed has only serial numbers and name column is information is already availabe in the different columns."
   ]
  },
  {
   "cell_type": "code",
   "execution_count": 145,
   "metadata": {},
   "outputs": [
    {
     "name": "stdout",
     "output_type": "stream",
     "text": [
      "<class 'pandas.core.frame.DataFrame'>\n",
      "RangeIndex: 7846 entries, 0 to 7845\n",
      "Data columns (total 12 columns):\n",
      " #   Column                Non-Null Count  Dtype \n",
      "---  ------                --------------  ----- \n",
      " 0   Model                 7846 non-null   object\n",
      " 1   Brand                 7846 non-null   object\n",
      " 2   No_pre_owners         7846 non-null   object\n",
      " 3   accident_history      7846 non-null   object\n",
      " 4   Transmission          7563 non-null   object\n",
      " 5   Engine                7846 non-null   object\n",
      " 6   KM_used               7846 non-null   object\n",
      " 7   Manufacture year      7846 non-null   int64 \n",
      " 8   Insurance_type        7838 non-null   object\n",
      " 9   Purchase_year         7846 non-null   object\n",
      " 10  Insurance_valid_till  7846 non-null   object\n",
      " 11  price                 7846 non-null   object\n",
      "dtypes: int64(1), object(11)\n",
      "memory usage: 735.7+ KB\n"
     ]
    }
   ],
   "source": [
    "df.info()"
   ]
  },
  {
   "cell_type": "code",
   "execution_count": 146,
   "metadata": {},
   "outputs": [],
   "source": [
    "#Applying label encoding and changing all the data type from object to int"
   ]
  },
  {
   "cell_type": "code",
   "execution_count": 147,
   "metadata": {},
   "outputs": [
    {
     "data": {
      "text/plain": [
       "array(['Wagon', 'Grand', 'Alto', 'Amaze', 'Swift', 'Baleno', 'Eon',\n",
       "       'Eeco', 'Dzire', 'Ciaz', 'Nano', 'Kwid', 'Ritz', 'Zen', 'Jazz',\n",
       "       'Etios', 'Verna', 'Celerio', 'A', 'Vento', 'i20', 'IGNIS', 'i10',\n",
       "       'GRAND', 'New', 'Beat', 'XL6', 'S', 'City', 'Santro', 'Redi',\n",
       "       'HECTOR', 'Ameo', 'Tiago', 'Vitara', 'Elite', 'Mobilio', 'Brio',\n",
       "       'XUV', 'NEW', 'TUV300', 'Polo', 'Figo', 'Ertiga', 'Ecosport',\n",
       "       'Glanza', 'VENUE', 'Spark', 'Zest', 'SONET', 'YARIS', 'Duster',\n",
       "       'Fiesta', 'CRV', 'Creta', 'Bolero', 'Terrano', 'XUV500', 'Innova',\n",
       "       'TRIBER', 'S60', 'Accord', 'Sunny', 'Aveo', 'X1', 'Rapid', 'WR-V',\n",
       "       'Superb', 'SELTOS', 'Fortuner', 'Scorpio', 'Tucson', 'Sail',\n",
       "       'Corolla', 'FREESTYLE', 'SX4', 'TIGOR', 'Benz', 'Linea', 'Jetta',\n",
       "       'Compass', 'Pulse', 'Scala', 'A3', 'Civic', 'Punto', 'Q3', 'Go',\n",
       "       'Xenon', 'A4', 'BR-V', 'Thar', 'Cruze', 'Xylo', '3', 'Endeavour',\n",
       "       'XC', 'Harrier', 'A6', 'Quanto', 'NEXON', '5', 'Freelander', 'KUV',\n",
       "       'Xcent', 'Safari', 'X3', 'Camry', 'Kuv100', 'XCENT', 'Micra',\n",
       "       'TIAGO', 'Hexa', 'Mini', 'Yeti', 'Fluence', 'TT', 'Rexton', 'XF',\n",
       "       'MAGNITE', 'Kicks', 'MU-7', 'MARAZZO', 'Pajero', 'Fabia', 'OMNI',\n",
       "       'Lodgy', 'Range', 'KAROQ'], dtype=object)"
      ]
     },
     "execution_count": 147,
     "metadata": {},
     "output_type": "execute_result"
    }
   ],
   "source": [
    "df[\"Model\"].unique()"
   ]
  },
  {
   "cell_type": "code",
   "execution_count": 148,
   "metadata": {},
   "outputs": [],
   "source": [
    "from sklearn.preprocessing import LabelEncoder\n",
    "LE=LabelEncoder()\n",
    "df[\"Model\"]=LE.fit_transform(df[\"Model\"])"
   ]
  },
  {
   "cell_type": "code",
   "execution_count": 149,
   "metadata": {},
   "outputs": [
    {
     "data": {
      "text/plain": [
       "array([111,  46,   7,   8,  96,  12,  33,  30,  28,  20,  69,  58,  82,\n",
       "       125,  52,  35, 108,  19,   2, 107, 128,  50, 127,  43,  70,  13,\n",
       "       117,  83,  21,  90,  80,  47,   9, 104, 109,  31,  66,  16, 118,\n",
       "        67, 101,  73,  39,  34,  29,  44, 106,  93, 126,  86, 123,  27,\n",
       "        38,  17,  25,  15, 102, 119,  51,  99,  84,   6,  94,  10, 112,\n",
       "        79, 110,  95,  85,  41,  92, 105,  89,  24,  36,  87,  98,  14,\n",
       "        59,  53,  23,  74,  91,   3,  22,  75,  76,  45, 121,   4,  11,\n",
       "       103,  26, 122,   0,  32, 114,  48,   5,  77,  68,   1,  42,  55,\n",
       "       120,  88, 113,  18,  57, 115,  64,  97,  49,  65, 124,  40, 100,\n",
       "        81, 116,  61,  56,  63,  62,  72,  37,  71,  60,  78,  54])"
      ]
     },
     "execution_count": 149,
     "metadata": {},
     "output_type": "execute_result"
    }
   ],
   "source": [
    "df[\"Model\"].unique()"
   ]
  },
  {
   "cell_type": "code",
   "execution_count": 150,
   "metadata": {},
   "outputs": [],
   "source": [
    "LE=LabelEncoder()\n",
    "df[\"Brand\"]=LE.fit_transform(df[\"Brand\"])"
   ]
  },
  {
   "cell_type": "code",
   "execution_count": 151,
   "metadata": {},
   "outputs": [
    {
     "data": {
      "text/plain": [
       "array([16,  8,  7, 23, 20, 24, 25,  2,  3, 14, 15,  6,  5, 12, 19, 26,  1,\n",
       "       21, 17,  4, 11,  0, 13, 22, 10,  9, 18])"
      ]
     },
     "execution_count": 151,
     "metadata": {},
     "output_type": "execute_result"
    }
   ],
   "source": [
    "df[\"Brand\"].unique()"
   ]
  },
  {
   "cell_type": "code",
   "execution_count": 152,
   "metadata": {},
   "outputs": [
    {
     "data": {
      "text/plain": [
       "array(['1st Owner', '2nd Owner', '3rd Owner', '4th Owner'], dtype=object)"
      ]
     },
     "execution_count": 152,
     "metadata": {},
     "output_type": "execute_result"
    }
   ],
   "source": [
    "df[\"No_pre_owners\"].unique()"
   ]
  },
  {
   "cell_type": "code",
   "execution_count": 153,
   "metadata": {},
   "outputs": [],
   "source": [
    "LE=LabelEncoder()\n",
    "df[\"No_pre_owners\"]=LE.fit_transform(df[\"No_pre_owners\"])"
   ]
  },
  {
   "cell_type": "code",
   "execution_count": 154,
   "metadata": {},
   "outputs": [
    {
     "data": {
      "text/plain": [
       "array([0, 1, 2, 3])"
      ]
     },
     "execution_count": 154,
     "metadata": {},
     "output_type": "execute_result"
    }
   ],
   "source": [
    "df[\"No_pre_owners\"].unique()"
   ]
  },
  {
   "cell_type": "code",
   "execution_count": 155,
   "metadata": {},
   "outputs": [
    {
     "data": {
      "text/plain": [
       "array(['Non-Accidental', 'HistoryNon-Accidental'], dtype=object)"
      ]
     },
     "execution_count": 155,
     "metadata": {},
     "output_type": "execute_result"
    }
   ],
   "source": [
    "df[\"accident_history\"].unique()"
   ]
  },
  {
   "cell_type": "code",
   "execution_count": 156,
   "metadata": {},
   "outputs": [],
   "source": [
    "LE=LabelEncoder()\n",
    "df[\"accident_history\"]=LE.fit_transform(df[\"accident_history\"])"
   ]
  },
  {
   "cell_type": "code",
   "execution_count": 157,
   "metadata": {},
   "outputs": [
    {
     "data": {
      "text/plain": [
       "array(['Petrol', 'Diesel', 'Petrol + CNG', 'Fuel TypeDiesel',\n",
       "       'Fuel TypePetrol', 'Petrol + LPG'], dtype=object)"
      ]
     },
     "execution_count": 157,
     "metadata": {},
     "output_type": "execute_result"
    }
   ],
   "source": [
    "df[\"Engine\"].unique()"
   ]
  },
  {
   "cell_type": "code",
   "execution_count": 158,
   "metadata": {},
   "outputs": [],
   "source": [
    "LE=LabelEncoder()\n",
    "df[\"Engine\"]=LE.fit_transform(df[\"Engine\"])"
   ]
  },
  {
   "cell_type": "code",
   "execution_count": 159,
   "metadata": {},
   "outputs": [
    {
     "data": {
      "text/plain": [
       "array(['46,807 ', '12,776 ', '727 ', ..., '76,773 ', '58,862 ', '81,906 '],\n",
       "      dtype=object)"
      ]
     },
     "execution_count": 159,
     "metadata": {},
     "output_type": "execute_result"
    }
   ],
   "source": [
    "df[\"KM_used\"].unique()"
   ]
  },
  {
   "cell_type": "code",
   "execution_count": 160,
   "metadata": {},
   "outputs": [
    {
     "data": {
      "text/plain": [
       "array(['3rd Party', 'Zero_Dep', 'Comp', nan], dtype=object)"
      ]
     },
     "execution_count": 160,
     "metadata": {},
     "output_type": "execute_result"
    }
   ],
   "source": [
    "df[\"Insurance_type\"].unique()"
   ]
  },
  {
   "cell_type": "code",
   "execution_count": 161,
   "metadata": {},
   "outputs": [
    {
     "data": {
      "text/plain": [
       "0    3rd Party\n",
       "dtype: object"
      ]
     },
     "execution_count": 161,
     "metadata": {},
     "output_type": "execute_result"
    }
   ],
   "source": [
    "df[\"Insurance_type\"].mode()"
   ]
  },
  {
   "cell_type": "code",
   "execution_count": 162,
   "metadata": {},
   "outputs": [],
   "source": [
    "df['Insurance_type'] = df['Insurance_type'].replace(np.nan,'3rd Party')"
   ]
  },
  {
   "cell_type": "code",
   "execution_count": 163,
   "metadata": {},
   "outputs": [
    {
     "data": {
      "text/plain": [
       "array(['3rd Party', 'Zero_Dep', 'Comp'], dtype=object)"
      ]
     },
     "execution_count": 163,
     "metadata": {},
     "output_type": "execute_result"
    }
   ],
   "source": [
    "df[\"Insurance_type\"].unique()"
   ]
  },
  {
   "cell_type": "code",
   "execution_count": 164,
   "metadata": {},
   "outputs": [],
   "source": [
    "LE=LabelEncoder()\n",
    "df[\"Insurance_type\"]=LE.fit_transform(df[\"Insurance_type\"])"
   ]
  },
  {
   "cell_type": "code",
   "execution_count": 165,
   "metadata": {},
   "outputs": [
    {
     "data": {
      "text/plain": [
       "array([0, 2, 1])"
      ]
     },
     "execution_count": 165,
     "metadata": {},
     "output_type": "execute_result"
    }
   ],
   "source": [
    "df[\"Insurance_type\"].unique()"
   ]
  },
  {
   "cell_type": "code",
   "execution_count": 166,
   "metadata": {},
   "outputs": [
    {
     "data": {
      "text/plain": [
       "0    2015\n",
       "dtype: object"
      ]
     },
     "execution_count": 166,
     "metadata": {},
     "output_type": "execute_result"
    }
   ],
   "source": [
    "df[\"Purchase_year\"].mode()"
   ]
  },
  {
   "cell_type": "code",
   "execution_count": 167,
   "metadata": {},
   "outputs": [],
   "source": [
    "df[\"Purchase_year\"].replace({'of': '2015'}, inplace=True)"
   ]
  },
  {
   "cell_type": "code",
   "execution_count": 168,
   "metadata": {},
   "outputs": [],
   "source": [
    "#removed the categorical value with the mode"
   ]
  },
  {
   "cell_type": "code",
   "execution_count": 169,
   "metadata": {},
   "outputs": [
    {
     "data": {
      "text/plain": [
       "array(['2009', '2016', '2018', '2013', '2017', '2020', '2015', '2014',\n",
       "       '2019', '2012', '2010', '2011', '2021', '2008', '2007'],\n",
       "      dtype=object)"
      ]
     },
     "execution_count": 169,
     "metadata": {},
     "output_type": "execute_result"
    }
   ],
   "source": [
    "df[\"Purchase_year\"].unique()"
   ]
  },
  {
   "cell_type": "code",
   "execution_count": 170,
   "metadata": {},
   "outputs": [],
   "source": [
    "LE=LabelEncoder()\n",
    "df[\"Purchase_year\"]=LE.fit_transform(df[\"Purchase_year\"])"
   ]
  },
  {
   "cell_type": "code",
   "execution_count": 171,
   "metadata": {},
   "outputs": [
    {
     "data": {
      "text/plain": [
       "array([ 2,  9, 11,  6, 10, 13,  8,  7, 12,  5,  3,  4, 14,  1,  0])"
      ]
     },
     "execution_count": 171,
     "metadata": {},
     "output_type": "execute_result"
    }
   ],
   "source": [
    "df[\"Purchase_year\"].unique()"
   ]
  },
  {
   "cell_type": "code",
   "execution_count": 172,
   "metadata": {},
   "outputs": [
    {
     "data": {
      "text/plain": [
       "array(['2022', '2021', '2023', '2024', '2025', 'Sep', 'Jun', 'Mar', 'May',\n",
       "       'Jan', 'Feb', 'Apr'], dtype=object)"
      ]
     },
     "execution_count": 172,
     "metadata": {},
     "output_type": "execute_result"
    }
   ],
   "source": [
    "df[\"Insurance_valid_till\"].unique()"
   ]
  },
  {
   "cell_type": "code",
   "execution_count": 173,
   "metadata": {},
   "outputs": [],
   "source": [
    "df[\"Insurance_valid_till\"].replace(['Sep', 'Jun', 'Mar', 'May', 'Jan', 'Feb', 'Apr'],'2021', inplace=True)"
   ]
  },
  {
   "cell_type": "code",
   "execution_count": 174,
   "metadata": {},
   "outputs": [
    {
     "data": {
      "text/plain": [
       "array(['2022', '2021', '2023', '2024', '2025'], dtype=object)"
      ]
     },
     "execution_count": 174,
     "metadata": {},
     "output_type": "execute_result"
    }
   ],
   "source": [
    "df[\"Insurance_valid_till\"].unique()"
   ]
  },
  {
   "cell_type": "code",
   "execution_count": 175,
   "metadata": {},
   "outputs": [],
   "source": [
    "#replaced the months with curret year"
   ]
  },
  {
   "cell_type": "code",
   "execution_count": 176,
   "metadata": {},
   "outputs": [],
   "source": [
    "LE=LabelEncoder()\n",
    "df[\"Insurance_valid_till\"]=LE.fit_transform(df[\"Insurance_valid_till\"])"
   ]
  },
  {
   "cell_type": "code",
   "execution_count": 177,
   "metadata": {},
   "outputs": [
    {
     "data": {
      "text/plain": [
       "array(['1,50,999', '4,18,599', '3,36,199', ..., '7,34,899', '3,77,099',\n",
       "       '9,94,799'], dtype=object)"
      ]
     },
     "execution_count": 177,
     "metadata": {},
     "output_type": "execute_result"
    }
   ],
   "source": [
    "df[\"price\"].unique()"
   ]
  },
  {
   "cell_type": "code",
   "execution_count": 178,
   "metadata": {},
   "outputs": [
    {
     "name": "stdout",
     "output_type": "stream",
     "text": [
      "<class 'pandas.core.frame.DataFrame'>\n",
      "RangeIndex: 7846 entries, 0 to 7845\n",
      "Data columns (total 12 columns):\n",
      " #   Column                Non-Null Count  Dtype \n",
      "---  ------                --------------  ----- \n",
      " 0   Model                 7846 non-null   int32 \n",
      " 1   Brand                 7846 non-null   int32 \n",
      " 2   No_pre_owners         7846 non-null   int32 \n",
      " 3   accident_history      7846 non-null   int32 \n",
      " 4   Transmission          7563 non-null   object\n",
      " 5   Engine                7846 non-null   int32 \n",
      " 6   KM_used               7846 non-null   object\n",
      " 7   Manufacture year      7846 non-null   int64 \n",
      " 8   Insurance_type        7846 non-null   int32 \n",
      " 9   Purchase_year         7846 non-null   int32 \n",
      " 10  Insurance_valid_till  7846 non-null   int32 \n",
      " 11  price                 7846 non-null   object\n",
      "dtypes: int32(8), int64(1), object(3)\n",
      "memory usage: 490.5+ KB\n"
     ]
    }
   ],
   "source": [
    "df.info()"
   ]
  },
  {
   "cell_type": "code",
   "execution_count": 179,
   "metadata": {},
   "outputs": [
    {
     "data": {
      "text/plain": [
       "array(['MANUAL', 'AUTOMATIC', nan], dtype=object)"
      ]
     },
     "execution_count": 179,
     "metadata": {},
     "output_type": "execute_result"
    }
   ],
   "source": [
    "df[\"Transmission\"].unique()"
   ]
  },
  {
   "cell_type": "code",
   "execution_count": 180,
   "metadata": {},
   "outputs": [
    {
     "data": {
      "text/plain": [
       "0    MANUAL\n",
       "dtype: object"
      ]
     },
     "execution_count": 180,
     "metadata": {},
     "output_type": "execute_result"
    }
   ],
   "source": [
    "df[\"Transmission\"].mode()"
   ]
  },
  {
   "cell_type": "code",
   "execution_count": 181,
   "metadata": {},
   "outputs": [],
   "source": [
    "df['Transmission'] = df['Transmission'].replace(np.nan,'MANUAL')"
   ]
  },
  {
   "cell_type": "code",
   "execution_count": 182,
   "metadata": {},
   "outputs": [
    {
     "data": {
      "text/plain": [
       "array(['MANUAL', 'AUTOMATIC'], dtype=object)"
      ]
     },
     "execution_count": 182,
     "metadata": {},
     "output_type": "execute_result"
    }
   ],
   "source": [
    "df[\"Transmission\"].unique()"
   ]
  },
  {
   "cell_type": "code",
   "execution_count": 183,
   "metadata": {},
   "outputs": [],
   "source": [
    "LE=LabelEncoder()\n",
    "df[\"Transmission\"]=LE.fit_transform(df[\"Transmission\"])"
   ]
  },
  {
   "cell_type": "code",
   "execution_count": 184,
   "metadata": {},
   "outputs": [
    {
     "data": {
      "text/plain": [
       "array([1, 0])"
      ]
     },
     "execution_count": 184,
     "metadata": {},
     "output_type": "execute_result"
    }
   ],
   "source": [
    "df[\"Transmission\"].unique()"
   ]
  },
  {
   "cell_type": "code",
   "execution_count": 185,
   "metadata": {},
   "outputs": [
    {
     "data": {
      "text/plain": [
       "array(['46,807 ', '12,776 ', '727 ', ..., '76,773 ', '58,862 ', '81,906 '],\n",
       "      dtype=object)"
      ]
     },
     "execution_count": 185,
     "metadata": {},
     "output_type": "execute_result"
    }
   ],
   "source": [
    "df[\"KM_used\"].unique()"
   ]
  },
  {
   "cell_type": "code",
   "execution_count": 186,
   "metadata": {},
   "outputs": [],
   "source": [
    "df[\"KM_used\"]= df[\"KM_used\"].replace(',','')"
   ]
  },
  {
   "cell_type": "code",
   "execution_count": 187,
   "metadata": {},
   "outputs": [],
   "source": [
    "df.replace({'Driven_km':{'[A-za-z]',',','-'}},'',regex = True,inplace = True)"
   ]
  },
  {
   "cell_type": "code",
   "execution_count": 188,
   "metadata": {},
   "outputs": [
    {
     "name": "stdout",
     "output_type": "stream",
     "text": [
      "<class 'pandas.core.frame.DataFrame'>\n",
      "RangeIndex: 7846 entries, 0 to 7845\n",
      "Data columns (total 12 columns):\n",
      " #   Column                Non-Null Count  Dtype \n",
      "---  ------                --------------  ----- \n",
      " 0   Model                 7846 non-null   int32 \n",
      " 1   Brand                 7846 non-null   int32 \n",
      " 2   No_pre_owners         7846 non-null   int32 \n",
      " 3   accident_history      7846 non-null   int32 \n",
      " 4   Transmission          7846 non-null   int32 \n",
      " 5   Engine                7846 non-null   int32 \n",
      " 6   KM_used               7846 non-null   object\n",
      " 7   Manufacture year      7846 non-null   int64 \n",
      " 8   Insurance_type        7846 non-null   int32 \n",
      " 9   Purchase_year         7846 non-null   int32 \n",
      " 10  Insurance_valid_till  7846 non-null   int32 \n",
      " 11  price                 7846 non-null   object\n",
      "dtypes: int32(9), int64(1), object(2)\n",
      "memory usage: 459.9+ KB\n"
     ]
    }
   ],
   "source": [
    "df.info()"
   ]
  },
  {
   "cell_type": "code",
   "execution_count": 189,
   "metadata": {},
   "outputs": [],
   "source": [
    "df[\"price\"] = df[\"price\"].str.replace(\",\",\"\").astype(float)"
   ]
  },
  {
   "cell_type": "code",
   "execution_count": 190,
   "metadata": {},
   "outputs": [
    {
     "data": {
      "text/html": [
       "<div>\n",
       "<style scoped>\n",
       "    .dataframe tbody tr th:only-of-type {\n",
       "        vertical-align: middle;\n",
       "    }\n",
       "\n",
       "    .dataframe tbody tr th {\n",
       "        vertical-align: top;\n",
       "    }\n",
       "\n",
       "    .dataframe thead th {\n",
       "        text-align: right;\n",
       "    }\n",
       "</style>\n",
       "<table border=\"1\" class=\"dataframe\">\n",
       "  <thead>\n",
       "    <tr style=\"text-align: right;\">\n",
       "      <th></th>\n",
       "      <th>Model</th>\n",
       "      <th>Brand</th>\n",
       "      <th>No_pre_owners</th>\n",
       "      <th>accident_history</th>\n",
       "      <th>Transmission</th>\n",
       "      <th>Engine</th>\n",
       "      <th>KM_used</th>\n",
       "      <th>Manufacture year</th>\n",
       "      <th>Insurance_type</th>\n",
       "      <th>Purchase_year</th>\n",
       "      <th>Insurance_valid_till</th>\n",
       "      <th>price</th>\n",
       "    </tr>\n",
       "  </thead>\n",
       "  <tbody>\n",
       "    <tr>\n",
       "      <th>0</th>\n",
       "      <td>111</td>\n",
       "      <td>16</td>\n",
       "      <td>0</td>\n",
       "      <td>1</td>\n",
       "      <td>1</td>\n",
       "      <td>3</td>\n",
       "      <td>46,807</td>\n",
       "      <td>2009</td>\n",
       "      <td>0</td>\n",
       "      <td>2</td>\n",
       "      <td>1</td>\n",
       "      <td>150999.0</td>\n",
       "    </tr>\n",
       "    <tr>\n",
       "      <th>1</th>\n",
       "      <td>46</td>\n",
       "      <td>8</td>\n",
       "      <td>0</td>\n",
       "      <td>1</td>\n",
       "      <td>1</td>\n",
       "      <td>3</td>\n",
       "      <td>12,776</td>\n",
       "      <td>2016</td>\n",
       "      <td>2</td>\n",
       "      <td>9</td>\n",
       "      <td>1</td>\n",
       "      <td>418599.0</td>\n",
       "    </tr>\n",
       "    <tr>\n",
       "      <th>2</th>\n",
       "      <td>7</td>\n",
       "      <td>16</td>\n",
       "      <td>0</td>\n",
       "      <td>1</td>\n",
       "      <td>1</td>\n",
       "      <td>3</td>\n",
       "      <td>727</td>\n",
       "      <td>2018</td>\n",
       "      <td>0</td>\n",
       "      <td>11</td>\n",
       "      <td>1</td>\n",
       "      <td>336199.0</td>\n",
       "    </tr>\n",
       "    <tr>\n",
       "      <th>3</th>\n",
       "      <td>8</td>\n",
       "      <td>7</td>\n",
       "      <td>0</td>\n",
       "      <td>1</td>\n",
       "      <td>1</td>\n",
       "      <td>3</td>\n",
       "      <td>37,382</td>\n",
       "      <td>2013</td>\n",
       "      <td>1</td>\n",
       "      <td>6</td>\n",
       "      <td>1</td>\n",
       "      <td>312899.0</td>\n",
       "    </tr>\n",
       "    <tr>\n",
       "      <th>4</th>\n",
       "      <td>46</td>\n",
       "      <td>8</td>\n",
       "      <td>0</td>\n",
       "      <td>1</td>\n",
       "      <td>1</td>\n",
       "      <td>3</td>\n",
       "      <td>20,561</td>\n",
       "      <td>2017</td>\n",
       "      <td>0</td>\n",
       "      <td>10</td>\n",
       "      <td>1</td>\n",
       "      <td>412899.0</td>\n",
       "    </tr>\n",
       "    <tr>\n",
       "      <th>...</th>\n",
       "      <td>...</td>\n",
       "      <td>...</td>\n",
       "      <td>...</td>\n",
       "      <td>...</td>\n",
       "      <td>...</td>\n",
       "      <td>...</td>\n",
       "      <td>...</td>\n",
       "      <td>...</td>\n",
       "      <td>...</td>\n",
       "      <td>...</td>\n",
       "      <td>...</td>\n",
       "      <td>...</td>\n",
       "    </tr>\n",
       "    <tr>\n",
       "      <th>7841</th>\n",
       "      <td>57</td>\n",
       "      <td>15</td>\n",
       "      <td>0</td>\n",
       "      <td>1</td>\n",
       "      <td>1</td>\n",
       "      <td>0</td>\n",
       "      <td>90,509</td>\n",
       "      <td>2016</td>\n",
       "      <td>0</td>\n",
       "      <td>9</td>\n",
       "      <td>1</td>\n",
       "      <td>386199.0</td>\n",
       "    </tr>\n",
       "    <tr>\n",
       "      <th>7842</th>\n",
       "      <td>81</td>\n",
       "      <td>22</td>\n",
       "      <td>1</td>\n",
       "      <td>1</td>\n",
       "      <td>1</td>\n",
       "      <td>0</td>\n",
       "      <td>1,08,958</td>\n",
       "      <td>2014</td>\n",
       "      <td>0</td>\n",
       "      <td>7</td>\n",
       "      <td>1</td>\n",
       "      <td>664699.0</td>\n",
       "    </tr>\n",
       "    <tr>\n",
       "      <th>7843</th>\n",
       "      <td>31</td>\n",
       "      <td>8</td>\n",
       "      <td>0</td>\n",
       "      <td>1</td>\n",
       "      <td>1</td>\n",
       "      <td>0</td>\n",
       "      <td>1,29,194</td>\n",
       "      <td>2016</td>\n",
       "      <td>0</td>\n",
       "      <td>9</td>\n",
       "      <td>1</td>\n",
       "      <td>572499.0</td>\n",
       "    </tr>\n",
       "    <tr>\n",
       "      <th>7844</th>\n",
       "      <td>108</td>\n",
       "      <td>8</td>\n",
       "      <td>2</td>\n",
       "      <td>1</td>\n",
       "      <td>1</td>\n",
       "      <td>0</td>\n",
       "      <td>1,86,575</td>\n",
       "      <td>2014</td>\n",
       "      <td>0</td>\n",
       "      <td>7</td>\n",
       "      <td>1</td>\n",
       "      <td>363299.0</td>\n",
       "    </tr>\n",
       "    <tr>\n",
       "      <th>7845</th>\n",
       "      <td>72</td>\n",
       "      <td>18</td>\n",
       "      <td>0</td>\n",
       "      <td>1</td>\n",
       "      <td>0</td>\n",
       "      <td>0</td>\n",
       "      <td>1,40,976</td>\n",
       "      <td>2012</td>\n",
       "      <td>0</td>\n",
       "      <td>5</td>\n",
       "      <td>1</td>\n",
       "      <td>556599.0</td>\n",
       "    </tr>\n",
       "  </tbody>\n",
       "</table>\n",
       "<p>7846 rows × 12 columns</p>\n",
       "</div>"
      ],
      "text/plain": [
       "      Model  Brand  No_pre_owners  accident_history  Transmission  Engine  \\\n",
       "0       111     16              0                 1             1       3   \n",
       "1        46      8              0                 1             1       3   \n",
       "2         7     16              0                 1             1       3   \n",
       "3         8      7              0                 1             1       3   \n",
       "4        46      8              0                 1             1       3   \n",
       "...     ...    ...            ...               ...           ...     ...   \n",
       "7841     57     15              0                 1             1       0   \n",
       "7842     81     22              1                 1             1       0   \n",
       "7843     31      8              0                 1             1       0   \n",
       "7844    108      8              2                 1             1       0   \n",
       "7845     72     18              0                 1             0       0   \n",
       "\n",
       "        KM_used  Manufacture year  Insurance_type  Purchase_year  \\\n",
       "0       46,807               2009               0              2   \n",
       "1       12,776               2016               2              9   \n",
       "2          727               2018               0             11   \n",
       "3       37,382               2013               1              6   \n",
       "4       20,561               2017               0             10   \n",
       "...         ...               ...             ...            ...   \n",
       "7841    90,509               2016               0              9   \n",
       "7842  1,08,958               2014               0              7   \n",
       "7843  1,29,194               2016               0              9   \n",
       "7844  1,86,575               2014               0              7   \n",
       "7845  1,40,976               2012               0              5   \n",
       "\n",
       "      Insurance_valid_till     price  \n",
       "0                        1  150999.0  \n",
       "1                        1  418599.0  \n",
       "2                        1  336199.0  \n",
       "3                        1  312899.0  \n",
       "4                        1  412899.0  \n",
       "...                    ...       ...  \n",
       "7841                     1  386199.0  \n",
       "7842                     1  664699.0  \n",
       "7843                     1  572499.0  \n",
       "7844                     1  363299.0  \n",
       "7845                     1  556599.0  \n",
       "\n",
       "[7846 rows x 12 columns]"
      ]
     },
     "execution_count": 190,
     "metadata": {},
     "output_type": "execute_result"
    }
   ],
   "source": [
    "pd.set_option('display.max_columns', None)\n",
    "df"
   ]
  },
  {
   "cell_type": "code",
   "execution_count": 191,
   "metadata": {},
   "outputs": [
    {
     "name": "stdout",
     "output_type": "stream",
     "text": [
      "Empty DataFrame\n",
      "Columns: [Model, Brand, No_pre_owners, accident_history, Transmission, Engine, KM_used, Manufacture year, Insurance_type, Purchase_year, Insurance_valid_till, price]\n",
      "Index: []\n"
     ]
    }
   ],
   "source": [
    "#df_new = df[df['KM_used'] == 'Kilometers Driven75881 ']\n",
    "  \n",
    "print(df_new)"
   ]
  },
  {
   "cell_type": "code",
   "execution_count": 192,
   "metadata": {
    "scrolled": true
   },
   "outputs": [
    {
     "name": "stdout",
     "output_type": "stream",
     "text": [
      "<class 'pandas.core.frame.DataFrame'>\n",
      "RangeIndex: 7846 entries, 0 to 7845\n",
      "Data columns (total 12 columns):\n",
      " #   Column                Non-Null Count  Dtype  \n",
      "---  ------                --------------  -----  \n",
      " 0   Model                 7846 non-null   int32  \n",
      " 1   Brand                 7846 non-null   int32  \n",
      " 2   No_pre_owners         7846 non-null   int32  \n",
      " 3   accident_history      7846 non-null   int32  \n",
      " 4   Transmission          7846 non-null   int32  \n",
      " 5   Engine                7846 non-null   int32  \n",
      " 6   KM_used               7846 non-null   object \n",
      " 7   Manufacture year      7846 non-null   int64  \n",
      " 8   Insurance_type        7846 non-null   int32  \n",
      " 9   Purchase_year         7846 non-null   int32  \n",
      " 10  Insurance_valid_till  7846 non-null   int32  \n",
      " 11  price                 7846 non-null   float64\n",
      "dtypes: float64(1), int32(9), int64(1), object(1)\n",
      "memory usage: 459.9+ KB\n"
     ]
    }
   ],
   "source": [
    "df.info()"
   ]
  },
  {
   "cell_type": "code",
   "execution_count": 193,
   "metadata": {},
   "outputs": [],
   "source": [
    "#df[\"KM_used\"] = df[\"KM_used\"].str.replace(\",\",\"\").astype(float)"
   ]
  },
  {
   "cell_type": "code",
   "execution_count": 194,
   "metadata": {},
   "outputs": [
    {
     "data": {
      "text/plain": [
       "<bound method IndexOpsMixin.value_counts of 0         46,807 \n",
       "1         12,776 \n",
       "2            727 \n",
       "3         37,382 \n",
       "4         20,561 \n",
       "          ...    \n",
       "7841      90,509 \n",
       "7842    1,08,958 \n",
       "7843    1,29,194 \n",
       "7844    1,86,575 \n",
       "7845    1,40,976 \n",
       "Name: KM_used, Length: 7846, dtype: object>"
      ]
     },
     "execution_count": 194,
     "metadata": {},
     "output_type": "execute_result"
    }
   ],
   "source": [
    "df[\"KM_used\"].value_counts"
   ]
  },
  {
   "cell_type": "code",
   "execution_count": 195,
   "metadata": {},
   "outputs": [
    {
     "data": {
      "text/plain": [
       "84,757                      6\n",
       "73,411                      6\n",
       "51,346                      6\n",
       "42,344                      6\n",
       "70,325                      6\n",
       "                           ..\n",
       "34,395                      1\n",
       "10,177                      1\n",
       "727                         1\n",
       "94,104                      1\n",
       "Kilometers Driven16,026     1\n",
       "Name: KM_used, Length: 3979, dtype: int64"
      ]
     },
     "execution_count": 195,
     "metadata": {},
     "output_type": "execute_result"
    }
   ],
   "source": [
    "df[\"KM_used\"].value_counts()"
   ]
  },
  {
   "cell_type": "code",
   "execution_count": 196,
   "metadata": {},
   "outputs": [],
   "source": [
    "#df['KM_used1']=df['KM_used'].str.extract('([A-Za-z]+)?([0-9]*[.]?[0-9]+)')"
   ]
  },
  {
   "cell_type": "code",
   "execution_count": 197,
   "metadata": {},
   "outputs": [
    {
     "data": {
      "text/plain": [
       "0"
      ]
     },
     "execution_count": 197,
     "metadata": {},
     "output_type": "execute_result"
    }
   ],
   "source": [
    "df['KM_used'].isnull().sum()"
   ]
  },
  {
   "cell_type": "code",
   "execution_count": 198,
   "metadata": {},
   "outputs": [
    {
     "ename": "ValueError",
     "evalue": "could not convert string to float: 'Kilometers Driven75881 '",
     "output_type": "error",
     "traceback": [
      "\u001b[1;31m---------------------------------------------------------------------------\u001b[0m",
      "\u001b[1;31mValueError\u001b[0m                                Traceback (most recent call last)",
      "\u001b[1;32m<ipython-input-198-bc272e4df56f>\u001b[0m in \u001b[0;36m<module>\u001b[1;34m\u001b[0m\n\u001b[1;32m----> 1\u001b[1;33m \u001b[0mdf\u001b[0m\u001b[1;33m[\u001b[0m\u001b[1;34m\"KM_used\"\u001b[0m\u001b[1;33m]\u001b[0m \u001b[1;33m=\u001b[0m \u001b[0mdf\u001b[0m\u001b[1;33m[\u001b[0m\u001b[1;34m\"KM_used\"\u001b[0m\u001b[1;33m]\u001b[0m\u001b[1;33m.\u001b[0m\u001b[0mstr\u001b[0m\u001b[1;33m.\u001b[0m\u001b[0mreplace\u001b[0m\u001b[1;33m(\u001b[0m\u001b[1;34m\",\"\u001b[0m\u001b[1;33m,\u001b[0m\u001b[1;34m\"\"\u001b[0m\u001b[1;33m)\u001b[0m\u001b[1;33m.\u001b[0m\u001b[0mastype\u001b[0m\u001b[1;33m(\u001b[0m\u001b[0mfloat\u001b[0m\u001b[1;33m)\u001b[0m\u001b[1;33m\u001b[0m\u001b[1;33m\u001b[0m\u001b[0m\n\u001b[0m",
      "\u001b[1;32m~\\anaconda3\\lib\\site-packages\\pandas\\core\\generic.py\u001b[0m in \u001b[0;36mastype\u001b[1;34m(self, dtype, copy, errors)\u001b[0m\n\u001b[0;32m   5544\u001b[0m         \u001b[1;32melse\u001b[0m\u001b[1;33m:\u001b[0m\u001b[1;33m\u001b[0m\u001b[1;33m\u001b[0m\u001b[0m\n\u001b[0;32m   5545\u001b[0m             \u001b[1;31m# else, only a single dtype is given\u001b[0m\u001b[1;33m\u001b[0m\u001b[1;33m\u001b[0m\u001b[1;33m\u001b[0m\u001b[0m\n\u001b[1;32m-> 5546\u001b[1;33m             \u001b[0mnew_data\u001b[0m \u001b[1;33m=\u001b[0m \u001b[0mself\u001b[0m\u001b[1;33m.\u001b[0m\u001b[0m_mgr\u001b[0m\u001b[1;33m.\u001b[0m\u001b[0mastype\u001b[0m\u001b[1;33m(\u001b[0m\u001b[0mdtype\u001b[0m\u001b[1;33m=\u001b[0m\u001b[0mdtype\u001b[0m\u001b[1;33m,\u001b[0m \u001b[0mcopy\u001b[0m\u001b[1;33m=\u001b[0m\u001b[0mcopy\u001b[0m\u001b[1;33m,\u001b[0m \u001b[0merrors\u001b[0m\u001b[1;33m=\u001b[0m\u001b[0merrors\u001b[0m\u001b[1;33m,\u001b[0m\u001b[1;33m)\u001b[0m\u001b[1;33m\u001b[0m\u001b[1;33m\u001b[0m\u001b[0m\n\u001b[0m\u001b[0;32m   5547\u001b[0m             \u001b[1;32mreturn\u001b[0m \u001b[0mself\u001b[0m\u001b[1;33m.\u001b[0m\u001b[0m_constructor\u001b[0m\u001b[1;33m(\u001b[0m\u001b[0mnew_data\u001b[0m\u001b[1;33m)\u001b[0m\u001b[1;33m.\u001b[0m\u001b[0m__finalize__\u001b[0m\u001b[1;33m(\u001b[0m\u001b[0mself\u001b[0m\u001b[1;33m,\u001b[0m \u001b[0mmethod\u001b[0m\u001b[1;33m=\u001b[0m\u001b[1;34m\"astype\"\u001b[0m\u001b[1;33m)\u001b[0m\u001b[1;33m\u001b[0m\u001b[1;33m\u001b[0m\u001b[0m\n\u001b[0;32m   5548\u001b[0m \u001b[1;33m\u001b[0m\u001b[0m\n",
      "\u001b[1;32m~\\anaconda3\\lib\\site-packages\\pandas\\core\\internals\\managers.py\u001b[0m in \u001b[0;36mastype\u001b[1;34m(self, dtype, copy, errors)\u001b[0m\n\u001b[0;32m    593\u001b[0m         \u001b[0mself\u001b[0m\u001b[1;33m,\u001b[0m \u001b[0mdtype\u001b[0m\u001b[1;33m,\u001b[0m \u001b[0mcopy\u001b[0m\u001b[1;33m:\u001b[0m \u001b[0mbool\u001b[0m \u001b[1;33m=\u001b[0m \u001b[1;32mFalse\u001b[0m\u001b[1;33m,\u001b[0m \u001b[0merrors\u001b[0m\u001b[1;33m:\u001b[0m \u001b[0mstr\u001b[0m \u001b[1;33m=\u001b[0m \u001b[1;34m\"raise\"\u001b[0m\u001b[1;33m\u001b[0m\u001b[1;33m\u001b[0m\u001b[0m\n\u001b[0;32m    594\u001b[0m     ) -> \"BlockManager\":\n\u001b[1;32m--> 595\u001b[1;33m         \u001b[1;32mreturn\u001b[0m \u001b[0mself\u001b[0m\u001b[1;33m.\u001b[0m\u001b[0mapply\u001b[0m\u001b[1;33m(\u001b[0m\u001b[1;34m\"astype\"\u001b[0m\u001b[1;33m,\u001b[0m \u001b[0mdtype\u001b[0m\u001b[1;33m=\u001b[0m\u001b[0mdtype\u001b[0m\u001b[1;33m,\u001b[0m \u001b[0mcopy\u001b[0m\u001b[1;33m=\u001b[0m\u001b[0mcopy\u001b[0m\u001b[1;33m,\u001b[0m \u001b[0merrors\u001b[0m\u001b[1;33m=\u001b[0m\u001b[0merrors\u001b[0m\u001b[1;33m)\u001b[0m\u001b[1;33m\u001b[0m\u001b[1;33m\u001b[0m\u001b[0m\n\u001b[0m\u001b[0;32m    596\u001b[0m \u001b[1;33m\u001b[0m\u001b[0m\n\u001b[0;32m    597\u001b[0m     def convert(\n",
      "\u001b[1;32m~\\anaconda3\\lib\\site-packages\\pandas\\core\\internals\\managers.py\u001b[0m in \u001b[0;36mapply\u001b[1;34m(self, f, align_keys, **kwargs)\u001b[0m\n\u001b[0;32m    404\u001b[0m                 \u001b[0mapplied\u001b[0m \u001b[1;33m=\u001b[0m \u001b[0mb\u001b[0m\u001b[1;33m.\u001b[0m\u001b[0mapply\u001b[0m\u001b[1;33m(\u001b[0m\u001b[0mf\u001b[0m\u001b[1;33m,\u001b[0m \u001b[1;33m**\u001b[0m\u001b[0mkwargs\u001b[0m\u001b[1;33m)\u001b[0m\u001b[1;33m\u001b[0m\u001b[1;33m\u001b[0m\u001b[0m\n\u001b[0;32m    405\u001b[0m             \u001b[1;32melse\u001b[0m\u001b[1;33m:\u001b[0m\u001b[1;33m\u001b[0m\u001b[1;33m\u001b[0m\u001b[0m\n\u001b[1;32m--> 406\u001b[1;33m                 \u001b[0mapplied\u001b[0m \u001b[1;33m=\u001b[0m \u001b[0mgetattr\u001b[0m\u001b[1;33m(\u001b[0m\u001b[0mb\u001b[0m\u001b[1;33m,\u001b[0m \u001b[0mf\u001b[0m\u001b[1;33m)\u001b[0m\u001b[1;33m(\u001b[0m\u001b[1;33m**\u001b[0m\u001b[0mkwargs\u001b[0m\u001b[1;33m)\u001b[0m\u001b[1;33m\u001b[0m\u001b[1;33m\u001b[0m\u001b[0m\n\u001b[0m\u001b[0;32m    407\u001b[0m             \u001b[0mresult_blocks\u001b[0m \u001b[1;33m=\u001b[0m \u001b[0m_extend_blocks\u001b[0m\u001b[1;33m(\u001b[0m\u001b[0mapplied\u001b[0m\u001b[1;33m,\u001b[0m \u001b[0mresult_blocks\u001b[0m\u001b[1;33m)\u001b[0m\u001b[1;33m\u001b[0m\u001b[1;33m\u001b[0m\u001b[0m\n\u001b[0;32m    408\u001b[0m \u001b[1;33m\u001b[0m\u001b[0m\n",
      "\u001b[1;32m~\\anaconda3\\lib\\site-packages\\pandas\\core\\internals\\blocks.py\u001b[0m in \u001b[0;36mastype\u001b[1;34m(self, dtype, copy, errors)\u001b[0m\n\u001b[0;32m    593\u001b[0m             \u001b[0mvals1d\u001b[0m \u001b[1;33m=\u001b[0m \u001b[0mvalues\u001b[0m\u001b[1;33m.\u001b[0m\u001b[0mravel\u001b[0m\u001b[1;33m(\u001b[0m\u001b[1;33m)\u001b[0m\u001b[1;33m\u001b[0m\u001b[1;33m\u001b[0m\u001b[0m\n\u001b[0;32m    594\u001b[0m             \u001b[1;32mtry\u001b[0m\u001b[1;33m:\u001b[0m\u001b[1;33m\u001b[0m\u001b[1;33m\u001b[0m\u001b[0m\n\u001b[1;32m--> 595\u001b[1;33m                 \u001b[0mvalues\u001b[0m \u001b[1;33m=\u001b[0m \u001b[0mastype_nansafe\u001b[0m\u001b[1;33m(\u001b[0m\u001b[0mvals1d\u001b[0m\u001b[1;33m,\u001b[0m \u001b[0mdtype\u001b[0m\u001b[1;33m,\u001b[0m \u001b[0mcopy\u001b[0m\u001b[1;33m=\u001b[0m\u001b[1;32mTrue\u001b[0m\u001b[1;33m)\u001b[0m\u001b[1;33m\u001b[0m\u001b[1;33m\u001b[0m\u001b[0m\n\u001b[0m\u001b[0;32m    596\u001b[0m             \u001b[1;32mexcept\u001b[0m \u001b[1;33m(\u001b[0m\u001b[0mValueError\u001b[0m\u001b[1;33m,\u001b[0m \u001b[0mTypeError\u001b[0m\u001b[1;33m)\u001b[0m\u001b[1;33m:\u001b[0m\u001b[1;33m\u001b[0m\u001b[1;33m\u001b[0m\u001b[0m\n\u001b[0;32m    597\u001b[0m                 \u001b[1;31m# e.g. astype_nansafe can fail on object-dtype of strings\u001b[0m\u001b[1;33m\u001b[0m\u001b[1;33m\u001b[0m\u001b[1;33m\u001b[0m\u001b[0m\n",
      "\u001b[1;32m~\\anaconda3\\lib\\site-packages\\pandas\\core\\dtypes\\cast.py\u001b[0m in \u001b[0;36mastype_nansafe\u001b[1;34m(arr, dtype, copy, skipna)\u001b[0m\n\u001b[0;32m    993\u001b[0m     \u001b[1;32mif\u001b[0m \u001b[0mcopy\u001b[0m \u001b[1;32mor\u001b[0m \u001b[0mis_object_dtype\u001b[0m\u001b[1;33m(\u001b[0m\u001b[0marr\u001b[0m\u001b[1;33m)\u001b[0m \u001b[1;32mor\u001b[0m \u001b[0mis_object_dtype\u001b[0m\u001b[1;33m(\u001b[0m\u001b[0mdtype\u001b[0m\u001b[1;33m)\u001b[0m\u001b[1;33m:\u001b[0m\u001b[1;33m\u001b[0m\u001b[1;33m\u001b[0m\u001b[0m\n\u001b[0;32m    994\u001b[0m         \u001b[1;31m# Explicit copy, or required since NumPy can't view from / to object.\u001b[0m\u001b[1;33m\u001b[0m\u001b[1;33m\u001b[0m\u001b[1;33m\u001b[0m\u001b[0m\n\u001b[1;32m--> 995\u001b[1;33m         \u001b[1;32mreturn\u001b[0m \u001b[0marr\u001b[0m\u001b[1;33m.\u001b[0m\u001b[0mastype\u001b[0m\u001b[1;33m(\u001b[0m\u001b[0mdtype\u001b[0m\u001b[1;33m,\u001b[0m \u001b[0mcopy\u001b[0m\u001b[1;33m=\u001b[0m\u001b[1;32mTrue\u001b[0m\u001b[1;33m)\u001b[0m\u001b[1;33m\u001b[0m\u001b[1;33m\u001b[0m\u001b[0m\n\u001b[0m\u001b[0;32m    996\u001b[0m \u001b[1;33m\u001b[0m\u001b[0m\n\u001b[0;32m    997\u001b[0m     \u001b[1;32mreturn\u001b[0m \u001b[0marr\u001b[0m\u001b[1;33m.\u001b[0m\u001b[0mview\u001b[0m\u001b[1;33m(\u001b[0m\u001b[0mdtype\u001b[0m\u001b[1;33m)\u001b[0m\u001b[1;33m\u001b[0m\u001b[1;33m\u001b[0m\u001b[0m\n",
      "\u001b[1;31mValueError\u001b[0m: could not convert string to float: 'Kilometers Driven75881 '"
     ]
    }
   ],
   "source": [
    "#df[\"KM_used\"] = df[\"KM_used\"].str.replace(\",\",\"\").astype(float)"
   ]
  },
  {
   "cell_type": "code",
   "execution_count": 199,
   "metadata": {},
   "outputs": [],
   "source": [
    "df.replace({'Kilometers Driven':{'[A-za-z]',',','-'}},'',regex = True,inplace = True)"
   ]
  },
  {
   "cell_type": "code",
   "execution_count": 203,
   "metadata": {},
   "outputs": [],
   "source": [
    "df['KM_used'] = df['KM_used'].str.replace(r'[^\\d.]+', '')"
   ]
  },
  {
   "cell_type": "code",
   "execution_count": 201,
   "metadata": {},
   "outputs": [],
   "source": [
    "df.replace({'Kilometers Driven':{'[A-za-z]',',','-'}},'',regex = True,inplace = True)"
   ]
  },
  {
   "cell_type": "code",
   "execution_count": 204,
   "metadata": {},
   "outputs": [],
   "source": [
    "df[\"KM_used\"] = df[\"KM_used\"].str.replace(\",\",\"\").astype(float)"
   ]
  },
  {
   "cell_type": "code",
   "execution_count": 205,
   "metadata": {},
   "outputs": [
    {
     "name": "stdout",
     "output_type": "stream",
     "text": [
      "<class 'pandas.core.frame.DataFrame'>\n",
      "RangeIndex: 7846 entries, 0 to 7845\n",
      "Data columns (total 12 columns):\n",
      " #   Column                Non-Null Count  Dtype  \n",
      "---  ------                --------------  -----  \n",
      " 0   Model                 7846 non-null   int32  \n",
      " 1   Brand                 7846 non-null   int32  \n",
      " 2   No_pre_owners         7846 non-null   int32  \n",
      " 3   accident_history      7846 non-null   int32  \n",
      " 4   Transmission          7846 non-null   int32  \n",
      " 5   Engine                7846 non-null   int32  \n",
      " 6   KM_used               7846 non-null   float64\n",
      " 7   Manufacture year      7846 non-null   int64  \n",
      " 8   Insurance_type        7846 non-null   int32  \n",
      " 9   Purchase_year         7846 non-null   int32  \n",
      " 10  Insurance_valid_till  7846 non-null   int32  \n",
      " 11  price                 7846 non-null   float64\n",
      "dtypes: float64(2), int32(9), int64(1)\n",
      "memory usage: 459.9 KB\n"
     ]
    }
   ],
   "source": [
    "df.info()"
   ]
  },
  {
   "cell_type": "code",
   "execution_count": 207,
   "metadata": {},
   "outputs": [
    {
     "data": {
      "text/plain": [
       "Model                   0\n",
       "Brand                   0\n",
       "No_pre_owners           0\n",
       "accident_history        0\n",
       "Transmission            0\n",
       "Engine                  0\n",
       "KM_used                 0\n",
       "Manufacture year        0\n",
       "Insurance_type          0\n",
       "Purchase_year           0\n",
       "Insurance_valid_till    0\n",
       "price                   0\n",
       "dtype: int64"
      ]
     },
     "execution_count": 207,
     "metadata": {},
     "output_type": "execute_result"
    }
   ],
   "source": [
    "df.isnull().sum()"
   ]
  },
  {
   "cell_type": "code",
   "execution_count": 208,
   "metadata": {},
   "outputs": [],
   "source": [
    "#There is no null values"
   ]
  },
  {
   "cell_type": "code",
   "execution_count": 209,
   "metadata": {},
   "outputs": [
    {
     "data": {
      "text/plain": [
       "70325.0    6\n",
       "56811.0    6\n",
       "73411.0    6\n",
       "81239.0    6\n",
       "51346.0    6\n",
       "          ..\n",
       "17212.0    1\n",
       "47583.0    1\n",
       "16969.0    1\n",
       "64909.0    1\n",
       "1584.0     1\n",
       "Name: KM_used, Length: 3829, dtype: int64"
      ]
     },
     "execution_count": 209,
     "metadata": {},
     "output_type": "execute_result"
    }
   ],
   "source": [
    "df[\"KM_used\"].value_counts()"
   ]
  },
  {
   "cell_type": "code",
   "execution_count": 210,
   "metadata": {},
   "outputs": [
    {
     "data": {
      "text/html": [
       "<div>\n",
       "<style scoped>\n",
       "    .dataframe tbody tr th:only-of-type {\n",
       "        vertical-align: middle;\n",
       "    }\n",
       "\n",
       "    .dataframe tbody tr th {\n",
       "        vertical-align: top;\n",
       "    }\n",
       "\n",
       "    .dataframe thead th {\n",
       "        text-align: right;\n",
       "    }\n",
       "</style>\n",
       "<table border=\"1\" class=\"dataframe\">\n",
       "  <thead>\n",
       "    <tr style=\"text-align: right;\">\n",
       "      <th></th>\n",
       "      <th>Model</th>\n",
       "      <th>Brand</th>\n",
       "      <th>No_pre_owners</th>\n",
       "      <th>accident_history</th>\n",
       "      <th>Transmission</th>\n",
       "      <th>Engine</th>\n",
       "      <th>KM_used</th>\n",
       "      <th>Manufacture year</th>\n",
       "      <th>Insurance_type</th>\n",
       "      <th>Purchase_year</th>\n",
       "      <th>Insurance_valid_till</th>\n",
       "      <th>price</th>\n",
       "    </tr>\n",
       "  </thead>\n",
       "  <tbody>\n",
       "    <tr>\n",
       "      <th>count</th>\n",
       "      <td>7846.000000</td>\n",
       "      <td>7846.000000</td>\n",
       "      <td>7846.000000</td>\n",
       "      <td>7846.000000</td>\n",
       "      <td>7846.000000</td>\n",
       "      <td>7846.000000</td>\n",
       "      <td>7846.000000</td>\n",
       "      <td>7846.000000</td>\n",
       "      <td>7846.000000</td>\n",
       "      <td>7846.000000</td>\n",
       "      <td>7846.000000</td>\n",
       "      <td>7.846000e+03</td>\n",
       "    </tr>\n",
       "    <tr>\n",
       "      <th>mean</th>\n",
       "      <td>60.356487</td>\n",
       "      <td>13.836732</td>\n",
       "      <td>0.244711</td>\n",
       "      <td>0.978078</td>\n",
       "      <td>0.917410</td>\n",
       "      <td>1.813918</td>\n",
       "      <td>61136.627963</td>\n",
       "      <td>2015.072394</td>\n",
       "      <td>0.262682</td>\n",
       "      <td>8.089090</td>\n",
       "      <td>0.986745</td>\n",
       "      <td>4.895596e+05</td>\n",
       "    </tr>\n",
       "    <tr>\n",
       "      <th>std</th>\n",
       "      <td>40.331008</td>\n",
       "      <td>5.411362</td>\n",
       "      <td>0.504935</td>\n",
       "      <td>0.146438</td>\n",
       "      <td>0.275279</td>\n",
       "      <td>1.493573</td>\n",
       "      <td>39420.596214</td>\n",
       "      <td>2.839602</td>\n",
       "      <td>0.584658</td>\n",
       "      <td>2.819687</td>\n",
       "      <td>0.201531</td>\n",
       "      <td>3.219719e+05</td>\n",
       "    </tr>\n",
       "    <tr>\n",
       "      <th>min</th>\n",
       "      <td>0.000000</td>\n",
       "      <td>0.000000</td>\n",
       "      <td>0.000000</td>\n",
       "      <td>0.000000</td>\n",
       "      <td>0.000000</td>\n",
       "      <td>0.000000</td>\n",
       "      <td>199.000000</td>\n",
       "      <td>2007.000000</td>\n",
       "      <td>0.000000</td>\n",
       "      <td>0.000000</td>\n",
       "      <td>0.000000</td>\n",
       "      <td>6.600000e+04</td>\n",
       "    </tr>\n",
       "    <tr>\n",
       "      <th>25%</th>\n",
       "      <td>24.000000</td>\n",
       "      <td>8.000000</td>\n",
       "      <td>0.000000</td>\n",
       "      <td>1.000000</td>\n",
       "      <td>1.000000</td>\n",
       "      <td>0.000000</td>\n",
       "      <td>31933.500000</td>\n",
       "      <td>2013.000000</td>\n",
       "      <td>0.000000</td>\n",
       "      <td>6.000000</td>\n",
       "      <td>1.000000</td>\n",
       "      <td>3.019992e+05</td>\n",
       "    </tr>\n",
       "    <tr>\n",
       "      <th>50%</th>\n",
       "      <td>51.000000</td>\n",
       "      <td>16.000000</td>\n",
       "      <td>0.000000</td>\n",
       "      <td>1.000000</td>\n",
       "      <td>1.000000</td>\n",
       "      <td>3.000000</td>\n",
       "      <td>56793.000000</td>\n",
       "      <td>2015.000000</td>\n",
       "      <td>0.000000</td>\n",
       "      <td>8.000000</td>\n",
       "      <td>1.000000</td>\n",
       "      <td>4.080000e+05</td>\n",
       "    </tr>\n",
       "    <tr>\n",
       "      <th>75%</th>\n",
       "      <td>96.000000</td>\n",
       "      <td>16.000000</td>\n",
       "      <td>0.000000</td>\n",
       "      <td>1.000000</td>\n",
       "      <td>1.000000</td>\n",
       "      <td>3.000000</td>\n",
       "      <td>82902.750000</td>\n",
       "      <td>2017.000000</td>\n",
       "      <td>0.000000</td>\n",
       "      <td>10.000000</td>\n",
       "      <td>1.000000</td>\n",
       "      <td>5.779740e+05</td>\n",
       "    </tr>\n",
       "    <tr>\n",
       "      <th>max</th>\n",
       "      <td>128.000000</td>\n",
       "      <td>26.000000</td>\n",
       "      <td>3.000000</td>\n",
       "      <td>1.000000</td>\n",
       "      <td>1.000000</td>\n",
       "      <td>5.000000</td>\n",
       "      <td>578889.000000</td>\n",
       "      <td>2021.000000</td>\n",
       "      <td>2.000000</td>\n",
       "      <td>14.000000</td>\n",
       "      <td>4.000000</td>\n",
       "      <td>6.500000e+06</td>\n",
       "    </tr>\n",
       "  </tbody>\n",
       "</table>\n",
       "</div>"
      ],
      "text/plain": [
       "             Model        Brand  No_pre_owners  accident_history  \\\n",
       "count  7846.000000  7846.000000    7846.000000       7846.000000   \n",
       "mean     60.356487    13.836732       0.244711          0.978078   \n",
       "std      40.331008     5.411362       0.504935          0.146438   \n",
       "min       0.000000     0.000000       0.000000          0.000000   \n",
       "25%      24.000000     8.000000       0.000000          1.000000   \n",
       "50%      51.000000    16.000000       0.000000          1.000000   \n",
       "75%      96.000000    16.000000       0.000000          1.000000   \n",
       "max     128.000000    26.000000       3.000000          1.000000   \n",
       "\n",
       "       Transmission       Engine        KM_used  Manufacture year  \\\n",
       "count   7846.000000  7846.000000    7846.000000       7846.000000   \n",
       "mean       0.917410     1.813918   61136.627963       2015.072394   \n",
       "std        0.275279     1.493573   39420.596214          2.839602   \n",
       "min        0.000000     0.000000     199.000000       2007.000000   \n",
       "25%        1.000000     0.000000   31933.500000       2013.000000   \n",
       "50%        1.000000     3.000000   56793.000000       2015.000000   \n",
       "75%        1.000000     3.000000   82902.750000       2017.000000   \n",
       "max        1.000000     5.000000  578889.000000       2021.000000   \n",
       "\n",
       "       Insurance_type  Purchase_year  Insurance_valid_till         price  \n",
       "count     7846.000000    7846.000000           7846.000000  7.846000e+03  \n",
       "mean         0.262682       8.089090              0.986745  4.895596e+05  \n",
       "std          0.584658       2.819687              0.201531  3.219719e+05  \n",
       "min          0.000000       0.000000              0.000000  6.600000e+04  \n",
       "25%          0.000000       6.000000              1.000000  3.019992e+05  \n",
       "50%          0.000000       8.000000              1.000000  4.080000e+05  \n",
       "75%          0.000000      10.000000              1.000000  5.779740e+05  \n",
       "max          2.000000      14.000000              4.000000  6.500000e+06  "
      ]
     },
     "execution_count": 210,
     "metadata": {},
     "output_type": "execute_result"
    }
   ],
   "source": [
    "df.describe()"
   ]
  },
  {
   "cell_type": "code",
   "execution_count": 211,
   "metadata": {},
   "outputs": [
    {
     "data": {
      "text/plain": [
       "Model                   0.112177\n",
       "Brand                  -0.100773\n",
       "No_pre_owners           2.086426\n",
       "accident_history       -6.531080\n",
       "Transmission           -3.033409\n",
       "Engine                 -0.331478\n",
       "KM_used                 1.571500\n",
       "Manufacture year       -0.273625\n",
       "Insurance_type          2.099976\n",
       "Purchase_year          -0.284933\n",
       "Insurance_valid_till    0.073033\n",
       "price                   4.222998\n",
       "dtype: float64"
      ]
     },
     "execution_count": 211,
     "metadata": {},
     "output_type": "execute_result"
    }
   ],
   "source": [
    "df.skew()"
   ]
  },
  {
   "cell_type": "code",
   "execution_count": 212,
   "metadata": {},
   "outputs": [
    {
     "data": {
      "text/html": [
       "<div>\n",
       "<style scoped>\n",
       "    .dataframe tbody tr th:only-of-type {\n",
       "        vertical-align: middle;\n",
       "    }\n",
       "\n",
       "    .dataframe tbody tr th {\n",
       "        vertical-align: top;\n",
       "    }\n",
       "\n",
       "    .dataframe thead th {\n",
       "        text-align: right;\n",
       "    }\n",
       "</style>\n",
       "<table border=\"1\" class=\"dataframe\">\n",
       "  <thead>\n",
       "    <tr style=\"text-align: right;\">\n",
       "      <th></th>\n",
       "      <th>Model</th>\n",
       "      <th>Brand</th>\n",
       "      <th>No_pre_owners</th>\n",
       "      <th>accident_history</th>\n",
       "      <th>Transmission</th>\n",
       "      <th>Engine</th>\n",
       "      <th>KM_used</th>\n",
       "      <th>Manufacture year</th>\n",
       "      <th>Insurance_type</th>\n",
       "      <th>Purchase_year</th>\n",
       "      <th>Insurance_valid_till</th>\n",
       "      <th>price</th>\n",
       "    </tr>\n",
       "  </thead>\n",
       "  <tbody>\n",
       "    <tr>\n",
       "      <th>Model</th>\n",
       "      <td>1.000000</td>\n",
       "      <td>0.078907</td>\n",
       "      <td>0.006150</td>\n",
       "      <td>-0.007763</td>\n",
       "      <td>0.068257</td>\n",
       "      <td>-0.215742</td>\n",
       "      <td>0.153650</td>\n",
       "      <td>-0.163472</td>\n",
       "      <td>-0.071453</td>\n",
       "      <td>-0.164445</td>\n",
       "      <td>-0.030643</td>\n",
       "      <td>-0.032312</td>\n",
       "    </tr>\n",
       "    <tr>\n",
       "      <th>Brand</th>\n",
       "      <td>0.078907</td>\n",
       "      <td>1.000000</td>\n",
       "      <td>-0.050688</td>\n",
       "      <td>-0.013365</td>\n",
       "      <td>0.062228</td>\n",
       "      <td>-0.091228</td>\n",
       "      <td>0.061736</td>\n",
       "      <td>0.040911</td>\n",
       "      <td>0.007594</td>\n",
       "      <td>0.046191</td>\n",
       "      <td>-0.020686</td>\n",
       "      <td>-0.045607</td>\n",
       "    </tr>\n",
       "    <tr>\n",
       "      <th>No_pre_owners</th>\n",
       "      <td>0.006150</td>\n",
       "      <td>-0.050688</td>\n",
       "      <td>1.000000</td>\n",
       "      <td>0.007051</td>\n",
       "      <td>-0.071006</td>\n",
       "      <td>0.017287</td>\n",
       "      <td>0.104748</td>\n",
       "      <td>-0.217722</td>\n",
       "      <td>-0.077872</td>\n",
       "      <td>-0.218549</td>\n",
       "      <td>-0.009458</td>\n",
       "      <td>-0.047185</td>\n",
       "    </tr>\n",
       "    <tr>\n",
       "      <th>accident_history</th>\n",
       "      <td>-0.007763</td>\n",
       "      <td>-0.013365</td>\n",
       "      <td>0.007051</td>\n",
       "      <td>1.000000</td>\n",
       "      <td>-0.000650</td>\n",
       "      <td>0.051866</td>\n",
       "      <td>-0.102869</td>\n",
       "      <td>0.043974</td>\n",
       "      <td>0.012181</td>\n",
       "      <td>0.004731</td>\n",
       "      <td>0.733069</td>\n",
       "      <td>-0.002421</td>\n",
       "    </tr>\n",
       "    <tr>\n",
       "      <th>Transmission</th>\n",
       "      <td>0.068257</td>\n",
       "      <td>0.062228</td>\n",
       "      <td>-0.071006</td>\n",
       "      <td>-0.000650</td>\n",
       "      <td>1.000000</td>\n",
       "      <td>-0.020332</td>\n",
       "      <td>0.044854</td>\n",
       "      <td>-0.076821</td>\n",
       "      <td>-0.018044</td>\n",
       "      <td>-0.074766</td>\n",
       "      <td>-0.003652</td>\n",
       "      <td>-0.341382</td>\n",
       "    </tr>\n",
       "    <tr>\n",
       "      <th>Engine</th>\n",
       "      <td>-0.215742</td>\n",
       "      <td>-0.091228</td>\n",
       "      <td>0.017287</td>\n",
       "      <td>0.051866</td>\n",
       "      <td>-0.020332</td>\n",
       "      <td>1.000000</td>\n",
       "      <td>-0.387530</td>\n",
       "      <td>0.048741</td>\n",
       "      <td>0.061969</td>\n",
       "      <td>0.047704</td>\n",
       "      <td>0.062950</td>\n",
       "      <td>-0.252313</td>\n",
       "    </tr>\n",
       "    <tr>\n",
       "      <th>KM_used</th>\n",
       "      <td>0.153650</td>\n",
       "      <td>0.061736</td>\n",
       "      <td>0.104748</td>\n",
       "      <td>-0.102869</td>\n",
       "      <td>0.044854</td>\n",
       "      <td>-0.387530</td>\n",
       "      <td>1.000000</td>\n",
       "      <td>-0.500726</td>\n",
       "      <td>-0.132308</td>\n",
       "      <td>-0.495565</td>\n",
       "      <td>-0.137201</td>\n",
       "      <td>-0.139221</td>\n",
       "    </tr>\n",
       "    <tr>\n",
       "      <th>Manufacture year</th>\n",
       "      <td>-0.163472</td>\n",
       "      <td>0.040911</td>\n",
       "      <td>-0.217722</td>\n",
       "      <td>0.043974</td>\n",
       "      <td>-0.076821</td>\n",
       "      <td>0.048741</td>\n",
       "      <td>-0.500726</td>\n",
       "      <td>1.000000</td>\n",
       "      <td>0.224336</td>\n",
       "      <td>0.993173</td>\n",
       "      <td>0.131538</td>\n",
       "      <td>0.447875</td>\n",
       "    </tr>\n",
       "    <tr>\n",
       "      <th>Insurance_type</th>\n",
       "      <td>-0.071453</td>\n",
       "      <td>0.007594</td>\n",
       "      <td>-0.077872</td>\n",
       "      <td>0.012181</td>\n",
       "      <td>-0.018044</td>\n",
       "      <td>0.061969</td>\n",
       "      <td>-0.132308</td>\n",
       "      <td>0.224336</td>\n",
       "      <td>1.000000</td>\n",
       "      <td>0.223955</td>\n",
       "      <td>0.007918</td>\n",
       "      <td>0.101516</td>\n",
       "    </tr>\n",
       "    <tr>\n",
       "      <th>Purchase_year</th>\n",
       "      <td>-0.164445</td>\n",
       "      <td>0.046191</td>\n",
       "      <td>-0.218549</td>\n",
       "      <td>0.004731</td>\n",
       "      <td>-0.074766</td>\n",
       "      <td>0.047704</td>\n",
       "      <td>-0.495565</td>\n",
       "      <td>0.993173</td>\n",
       "      <td>0.223955</td>\n",
       "      <td>1.000000</td>\n",
       "      <td>0.103470</td>\n",
       "      <td>0.443346</td>\n",
       "    </tr>\n",
       "    <tr>\n",
       "      <th>Insurance_valid_till</th>\n",
       "      <td>-0.030643</td>\n",
       "      <td>-0.020686</td>\n",
       "      <td>-0.009458</td>\n",
       "      <td>0.733069</td>\n",
       "      <td>-0.003652</td>\n",
       "      <td>0.062950</td>\n",
       "      <td>-0.137201</td>\n",
       "      <td>0.131538</td>\n",
       "      <td>0.007918</td>\n",
       "      <td>0.103470</td>\n",
       "      <td>1.000000</td>\n",
       "      <td>0.050199</td>\n",
       "    </tr>\n",
       "    <tr>\n",
       "      <th>price</th>\n",
       "      <td>-0.032312</td>\n",
       "      <td>-0.045607</td>\n",
       "      <td>-0.047185</td>\n",
       "      <td>-0.002421</td>\n",
       "      <td>-0.341382</td>\n",
       "      <td>-0.252313</td>\n",
       "      <td>-0.139221</td>\n",
       "      <td>0.447875</td>\n",
       "      <td>0.101516</td>\n",
       "      <td>0.443346</td>\n",
       "      <td>0.050199</td>\n",
       "      <td>1.000000</td>\n",
       "    </tr>\n",
       "  </tbody>\n",
       "</table>\n",
       "</div>"
      ],
      "text/plain": [
       "                         Model     Brand  No_pre_owners  accident_history  \\\n",
       "Model                 1.000000  0.078907       0.006150         -0.007763   \n",
       "Brand                 0.078907  1.000000      -0.050688         -0.013365   \n",
       "No_pre_owners         0.006150 -0.050688       1.000000          0.007051   \n",
       "accident_history     -0.007763 -0.013365       0.007051          1.000000   \n",
       "Transmission          0.068257  0.062228      -0.071006         -0.000650   \n",
       "Engine               -0.215742 -0.091228       0.017287          0.051866   \n",
       "KM_used               0.153650  0.061736       0.104748         -0.102869   \n",
       "Manufacture year     -0.163472  0.040911      -0.217722          0.043974   \n",
       "Insurance_type       -0.071453  0.007594      -0.077872          0.012181   \n",
       "Purchase_year        -0.164445  0.046191      -0.218549          0.004731   \n",
       "Insurance_valid_till -0.030643 -0.020686      -0.009458          0.733069   \n",
       "price                -0.032312 -0.045607      -0.047185         -0.002421   \n",
       "\n",
       "                      Transmission    Engine   KM_used  Manufacture year  \\\n",
       "Model                     0.068257 -0.215742  0.153650         -0.163472   \n",
       "Brand                     0.062228 -0.091228  0.061736          0.040911   \n",
       "No_pre_owners            -0.071006  0.017287  0.104748         -0.217722   \n",
       "accident_history         -0.000650  0.051866 -0.102869          0.043974   \n",
       "Transmission              1.000000 -0.020332  0.044854         -0.076821   \n",
       "Engine                   -0.020332  1.000000 -0.387530          0.048741   \n",
       "KM_used                   0.044854 -0.387530  1.000000         -0.500726   \n",
       "Manufacture year         -0.076821  0.048741 -0.500726          1.000000   \n",
       "Insurance_type           -0.018044  0.061969 -0.132308          0.224336   \n",
       "Purchase_year            -0.074766  0.047704 -0.495565          0.993173   \n",
       "Insurance_valid_till     -0.003652  0.062950 -0.137201          0.131538   \n",
       "price                    -0.341382 -0.252313 -0.139221          0.447875   \n",
       "\n",
       "                      Insurance_type  Purchase_year  Insurance_valid_till  \\\n",
       "Model                      -0.071453      -0.164445             -0.030643   \n",
       "Brand                       0.007594       0.046191             -0.020686   \n",
       "No_pre_owners              -0.077872      -0.218549             -0.009458   \n",
       "accident_history            0.012181       0.004731              0.733069   \n",
       "Transmission               -0.018044      -0.074766             -0.003652   \n",
       "Engine                      0.061969       0.047704              0.062950   \n",
       "KM_used                    -0.132308      -0.495565             -0.137201   \n",
       "Manufacture year            0.224336       0.993173              0.131538   \n",
       "Insurance_type              1.000000       0.223955              0.007918   \n",
       "Purchase_year               0.223955       1.000000              0.103470   \n",
       "Insurance_valid_till        0.007918       0.103470              1.000000   \n",
       "price                       0.101516       0.443346              0.050199   \n",
       "\n",
       "                         price  \n",
       "Model                -0.032312  \n",
       "Brand                -0.045607  \n",
       "No_pre_owners        -0.047185  \n",
       "accident_history     -0.002421  \n",
       "Transmission         -0.341382  \n",
       "Engine               -0.252313  \n",
       "KM_used              -0.139221  \n",
       "Manufacture year      0.447875  \n",
       "Insurance_type        0.101516  \n",
       "Purchase_year         0.443346  \n",
       "Insurance_valid_till  0.050199  \n",
       "price                 1.000000  "
      ]
     },
     "execution_count": 212,
     "metadata": {},
     "output_type": "execute_result"
    }
   ],
   "source": [
    "df.corr()"
   ]
  },
  {
   "cell_type": "code",
   "execution_count": 213,
   "metadata": {},
   "outputs": [
    {
     "data": {
      "text/plain": [
       "<AxesSubplot:>"
      ]
     },
     "execution_count": 213,
     "metadata": {},
     "output_type": "execute_result"
    },
    {
     "data": {
      "image/png": "[encoded data removed]",
      "text/plain": [
       "<Figure size 5040x2880 with 2 Axes>"
      ]
     },
     "metadata": {
      "needs_background": "light"
     },
     "output_type": "display_data"
    }
   ],
   "source": [
    "fig=plt.figure(figsize=(70,40))\n",
    "hc=df.corr(method=\"pearson\")\n",
    "sns.heatmap(hc,annot=True,cmap=\"Purples\")"
   ]
  },
  {
   "cell_type": "code",
   "execution_count": 214,
   "metadata": {},
   "outputs": [],
   "source": [
    "#removing outliers"
   ]
  },
  {
   "cell_type": "code",
   "execution_count": 215,
   "metadata": {},
   "outputs": [
    {
     "data": {
      "text/plain": [
       "Index(['Model', 'Brand', 'No_pre_owners', 'accident_history', 'Transmission',\n",
       "       'Engine', 'KM_used', 'Manufacture year', 'Insurance_type',\n",
       "       'Purchase_year', 'Insurance_valid_till', 'price'],\n",
       "      dtype='object')"
      ]
     },
     "execution_count": 215,
     "metadata": {},
     "output_type": "execute_result"
    }
   ],
   "source": [
    "df.columns"
   ]
  },
  {
   "cell_type": "code",
   "execution_count": 216,
   "metadata": {},
   "outputs": [],
   "source": [
    "from scipy.stats import zscore"
   ]
  },
  {
   "cell_type": "code",
   "execution_count": 217,
   "metadata": {},
   "outputs": [],
   "source": [
    "z=np.abs(zscore(df))\n",
    "df_new=df[(z<3).all(axis=1)]"
   ]
  },
  {
   "cell_type": "code",
   "execution_count": 218,
   "metadata": {},
   "outputs": [
    {
     "name": "stdout",
     "output_type": "stream",
     "text": [
      "shape before and after\n",
      "shape before         : (7846, 12)\n",
      "shape after          : (6624, 12)\n",
      "pecentage loss       : 0.15574815192454755\n"
     ]
    }
   ],
   "source": [
    "print(\"shape before and after\")\n",
    "print(\"shape before\".ljust(20),\":\",df.shape)\n",
    "print(\"shape after\".ljust(20),\":\",df_new.shape)\n",
    "print(\"pecentage loss\".ljust(20),\":\",(df.shape[0]-df_new.shape[0])/df.shape[0])"
   ]
  },
  {
   "cell_type": "code",
   "execution_count": 220,
   "metadata": {},
   "outputs": [],
   "source": [
    "#removed outliers with zscore and there is 0.15% data loss now we will try with IQR also"
   ]
  },
  {
   "cell_type": "code",
   "execution_count": 221,
   "metadata": {},
   "outputs": [],
   "source": [
    "q1=df.quantile(0.25)\n",
    "q3=df.quantile(0.75)\n",
    "IQR=q3-q1"
   ]
  },
  {
   "cell_type": "code",
   "execution_count": 222,
   "metadata": {},
   "outputs": [],
   "source": [
    "df_new1=df[~((df<(q1-1.5*IQR)) |(df>(q3+1.5*IQR))).any(axis=1)]"
   ]
  },
  {
   "cell_type": "code",
   "execution_count": 223,
   "metadata": {},
   "outputs": [
    {
     "name": "stdout",
     "output_type": "stream",
     "text": [
      "shape before and after\n",
      "shape before         : (7846, 12)\n",
      "shape after          : (4212, 12)\n",
      "pecentage loss       : 0.46316594443028297\n"
     ]
    }
   ],
   "source": [
    "print(\"shape before and after\")\n",
    "print(\"shape before\".ljust(20),\":\",df.shape)\n",
    "print(\"shape after\".ljust(20),\":\",df_new1.shape)\n",
    "print(\"pecentage loss\".ljust(20),\":\",(df.shape[0]-df_new1.shape[0])/df.shape[0])"
   ]
  },
  {
   "cell_type": "code",
   "execution_count": 225,
   "metadata": {},
   "outputs": [],
   "source": [
    "#With IQR there is 46% data loss so we will go through the zscore"
   ]
  },
  {
   "cell_type": "code",
   "execution_count": 226,
   "metadata": {},
   "outputs": [],
   "source": [
    "x=df.drop(\"price\",axis=1)\n",
    "y=df[\"price\"]"
   ]
  },
  {
   "cell_type": "code",
   "execution_count": 227,
   "metadata": {},
   "outputs": [
    {
     "name": "stdout",
     "output_type": "stream",
     "text": [
      "(6276, 11)\n",
      "(1570, 11)\n",
      "(6276,)\n",
      "(1570,)\n"
     ]
    }
   ],
   "source": [
    "from sklearn.model_selection import train_test_split\n",
    "X_train, X_test, y_train, y_test = train_test_split(x, y, test_size = 0.2, random_state = 42)\n",
    "\n",
    "print(X_train.shape)\n",
    "print(X_test.shape)\n",
    "print(y_train.shape)\n",
    "print(y_test.shape)"
   ]
  },
  {
   "cell_type": "code",
   "execution_count": 228,
   "metadata": {},
   "outputs": [
    {
     "data": {
      "text/plain": [
       "RandomForestRegressor()"
      ]
     },
     "execution_count": 228,
     "metadata": {},
     "output_type": "execute_result"
    }
   ],
   "source": [
    "from sklearn.ensemble import RandomForestRegressor\n",
    "reg_rf = RandomForestRegressor()\n",
    "reg_rf.fit(X_train, y_train)"
   ]
  },
  {
   "cell_type": "code",
   "execution_count": 229,
   "metadata": {},
   "outputs": [],
   "source": [
    "y_pred = reg_rf.predict(X_test)"
   ]
  },
  {
   "cell_type": "code",
   "execution_count": 230,
   "metadata": {},
   "outputs": [
    {
     "data": {
      "text/plain": [
       "0.9883416682495656"
      ]
     },
     "execution_count": 230,
     "metadata": {},
     "output_type": "execute_result"
    }
   ],
   "source": [
    "reg_rf.score(X_train, y_train)"
   ]
  },
  {
   "cell_type": "code",
   "execution_count": 231,
   "metadata": {},
   "outputs": [
    {
     "data": {
      "text/plain": [
       "0.9353141689471605"
      ]
     },
     "execution_count": 231,
     "metadata": {},
     "output_type": "execute_result"
    }
   ],
   "source": [
    "reg_rf.score(X_test, y_test)"
   ]
  },
  {
   "cell_type": "code",
   "execution_count": 232,
   "metadata": {},
   "outputs": [
    {
     "data": {
      "image/png": "[encoded data removed]",
      "text/plain": [
       "<Figure size 432x288 with 1 Axes>"
      ]
     },
     "metadata": {
      "needs_background": "light"
     },
     "output_type": "display_data"
    }
   ],
   "source": [
    "sns.distplot(y_test-y_pred)\n",
    "plt.show()"
   ]
  },
  {
   "cell_type": "code",
   "execution_count": 233,
   "metadata": {},
   "outputs": [
    {
     "data": {
      "image/png": "[encoded data removed]",
      "text/plain": [
       "<Figure size 432x288 with 1 Axes>"
      ]
     },
     "metadata": {
      "needs_background": "light"
     },
     "output_type": "display_data"
    }
   ],
   "source": [
    "plt.scatter(y_test, y_pred, alpha = 0.5)\n",
    "plt.xlabel(\"y_test\")\n",
    "plt.ylabel(\"y_pred\")\n",
    "plt.show()"
   ]
  },
  {
   "cell_type": "code",
   "execution_count": 234,
   "metadata": {},
   "outputs": [],
   "source": [
    "from sklearn import metrics"
   ]
  },
  {
   "cell_type": "code",
   "execution_count": 235,
   "metadata": {},
   "outputs": [
    {
     "name": "stdout",
     "output_type": "stream",
     "text": [
      "MAE: 30721.919179809927\n",
      "MSE: 6203744121.675418\n",
      "RMSE: 78763.85034821126\n"
     ]
    }
   ],
   "source": [
    "print('MAE:', metrics.mean_absolute_error(y_test, y_pred))\n",
    "print('MSE:', metrics.mean_squared_error(y_test, y_pred))\n",
    "print('RMSE:', np.sqrt(metrics.mean_squared_error(y_test, y_pred)))\n"
   ]
  },
  {
   "cell_type": "code",
   "execution_count": 237,
   "metadata": {},
   "outputs": [
    {
     "data": {
      "text/plain": [
       "0.9353141689471605"
      ]
     },
     "execution_count": 237,
     "metadata": {},
     "output_type": "execute_result"
    }
   ],
   "source": [
    "metrics.r2_score(y_test, y_pred)"
   ]
  },
  {
   "cell_type": "code",
   "execution_count": 238,
   "metadata": {},
   "outputs": [],
   "source": [
    "#WE WILL GO THROUGH THE RANDOM FOREST REGRESSOR as there is 93% accuracy in the model performance"
   ]
  }
 ],
 "metadata": {
  "kernelspec": {
   "display_name": "Python 3",
   "language": "python",
   "name": "python3"
  },
  "language_info": {
   "codemirror_mode": {
    "name": "ipython",
    "version": 3
   },
   "file_extension": ".py",
   "mimetype": "text/x-python",
   "name": "python",
   "nbconvert_exporter": "python",
   "pygments_lexer": "ipython3",
   "version": "3.8.5"
  }
 },
 "nbformat": 4,
 "nbformat_minor": 4
}
